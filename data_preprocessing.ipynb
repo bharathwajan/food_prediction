{
 "cells": [
  {
   "cell_type": "code",
   "execution_count": 6,
   "metadata": {},
   "outputs": [],
   "source": [
    "import os\n",
    "import cv2\n",
    "import matplotlib.pyplot as plt"
   ]
  },
  {
   "cell_type": "code",
   "execution_count": 4,
   "metadata": {},
   "outputs": [
    {
     "name": "stdout",
     "output_type": "stream",
     "text": [
      "20\n"
     ]
    }
   ],
   "source": [
    "dir='C:/Users/rbw19/food/food20dataset/train_set'\n",
    "catagories=[\"biriyani\",\"bisibelebath\",\"butternaan\",\"chaat\",\"chappati\",\"dhokla\",\"dosa\",\"gulab jamun\",\"halwa\",\"idly\",\"kathi roll\",\"meduvadai\",\"noodles\",\"paniyaram\",\"poori\",\"samosa\",\"tandoori chicken\",\"upma\",\"vada pav\",\"ven pongal\"]\n",
    "print(len(catagories))\n",
    "data=[]\n"
   ]
  },
  {
   "cell_type": "code",
   "execution_count": 36,
   "metadata": {
    "scrolled": false
   },
   "outputs": [
    {
     "name": "stdout",
     "output_type": "stream",
     "text": [
      "C:/Users/rbw19/food/food20dataset/train_set\\biriyani\n",
      "one image excluded\n",
      "C:/Users/rbw19/food/food20dataset/train_set\\bisibelebath\n",
      "C:/Users/rbw19/food/food20dataset/train_set\\butternaan\n",
      "C:/Users/rbw19/food/food20dataset/train_set\\chaat\n",
      "C:/Users/rbw19/food/food20dataset/train_set\\chappati\n",
      "C:/Users/rbw19/food/food20dataset/train_set\\dhokla\n",
      "C:/Users/rbw19/food/food20dataset/train_set\\dosa\n",
      "C:/Users/rbw19/food/food20dataset/train_set\\gulab jamun\n",
      "C:/Users/rbw19/food/food20dataset/train_set\\halwa\n",
      "C:/Users/rbw19/food/food20dataset/train_set\\idly\n",
      "C:/Users/rbw19/food/food20dataset/train_set\\kathi roll\n",
      "C:/Users/rbw19/food/food20dataset/train_set\\meduvadai\n",
      "C:/Users/rbw19/food/food20dataset/train_set\\noodles\n",
      "C:/Users/rbw19/food/food20dataset/train_set\\paniyaram\n",
      "C:/Users/rbw19/food/food20dataset/train_set\\poori\n",
      "C:/Users/rbw19/food/food20dataset/train_set\\samosa\n",
      "C:/Users/rbw19/food/food20dataset/train_set\\tandoori chicken\n",
      "C:/Users/rbw19/food/food20dataset/train_set\\upma\n",
      "C:/Users/rbw19/food/food20dataset/train_set\\vada pav\n",
      "C:/Users/rbw19/food/food20dataset/train_set\\ven pongal\n"
     ]
    }
   ],
   "source": [
    "for i in catagories:\n",
    "    folder=os.path.join(dir,i)\n",
    "    print(folder)\n",
    "    for j in os.listdir(folder):\n",
    "        img_path=os.path.join(folder,j)\n",
    "        \n",
    "        thumb=os.path.join(folder,'thumb.db')\n",
    "        if img_path==thumb:\n",
    "            print('neglected dump file')\n",
    "        else:\n",
    "            img_arr=cv2.imread(img_path)\n",
    "            try:\n",
    "                img_arr=cv2.resize(img_arr,(120,120))\n",
    "                data.append([img_arr,catagories.index(i)])\n",
    "            except:\n",
    "                print('one image excluded')\n",
    "            \n",
    "            \n",
    "       \n",
    "       \n",
    "    \n",
    "        \n",
    "    "
   ]
  },
  {
   "cell_type": "code",
   "execution_count": 48,
   "metadata": {},
   "outputs": [],
   "source": [
    "import numpy as np\n",
    "import random\n",
    "import pickle"
   ]
  },
  {
   "cell_type": "code",
   "execution_count": 41,
   "metadata": {},
   "outputs": [
    {
     "name": "stdout",
     "output_type": "stream",
     "text": [
      "1400\n",
      "1400\n"
     ]
    }
   ],
   "source": [
    "print(len(data))\n",
    "random.shuffle(data)\n",
    "print(len(data))\n",
    "x=[]\n",
    "y=[]\n"
   ]
  },
  {
   "cell_type": "code",
   "execution_count": 46,
   "metadata": {},
   "outputs": [],
   "source": [
    "for catagories,labels in data:\n",
    "    #print(catagories)\n",
    "    #print(labels)\n",
    "    #plt.imshow(catagories)\n",
    "    #plt.show()\n",
    "    x.append(catagories)\n",
    "    y.append(labels)"
   ]
  },
  {
   "cell_type": "code",
   "execution_count": 47,
   "metadata": {
    "scrolled": true
   },
   "outputs": [
    {
     "name": "stdout",
     "output_type": "stream",
     "text": [
      "1400\n",
      "1400\n"
     ]
    }
   ],
   "source": [
    "print(len(x))\n",
    "print(len(y))"
   ]
  },
  {
   "cell_type": "code",
   "execution_count": 49,
   "metadata": {},
   "outputs": [],
   "source": [
    "samples=np.array(x)\n",
    "labels=np.array(y)"
   ]
  },
  {
   "cell_type": "code",
   "execution_count": 53,
   "metadata": {
    "scrolled": true
   },
   "outputs": [
    {
     "name": "stdout",
     "output_type": "stream",
     "text": [
      "1400\n",
      "1400\n",
      "(1400, 120, 120, 3)\n"
     ]
    }
   ],
   "source": [
    "print(len(samples))\n",
    "print(len(labels))\n",
    "print(samples.shape)"
   ]
  },
  {
   "cell_type": "code",
   "execution_count": 54,
   "metadata": {},
   "outputs": [],
   "source": [
    "pickle.dump(samples,open('foodsample.pkl','wb'))\n",
    "pickle.dump(labels,open('foodlabel.pkl','wb'))"
   ]
  }
 ],
 "metadata": {
  "kernelspec": {
   "display_name": "Python 3",
   "language": "python",
   "name": "python3"
  },
  "language_info": {
   "codemirror_mode": {
    "name": "ipython",
    "version": 3
   },
   "file_extension": ".py",
   "mimetype": "text/x-python",
   "name": "python",
   "nbconvert_exporter": "python",
   "pygments_lexer": "ipython3",
   "version": "3.8.5"
  }
 },
 "nbformat": 4,
 "nbformat_minor": 4
}
